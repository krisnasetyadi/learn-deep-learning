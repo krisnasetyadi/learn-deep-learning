{
 "cells": [
  {
   "cell_type": "code",
   "execution_count": 1,
   "id": "b0e5741f",
   "metadata": {},
   "outputs": [],
   "source": [
    "## Memuat Dataset MNIST dari library Keras"
   ]
  },
  {
   "cell_type": "code",
   "execution_count": 2,
   "id": "4b2df783",
   "metadata": {},
   "outputs": [],
   "source": [
    "from keras.datasets import mnist\n",
    "(train_images,train_labels),(test_images,test_labels) = mnist.load_data()"
   ]
  },
  {
   "cell_type": "code",
   "execution_count": 3,
   "id": "83554860",
   "metadata": {},
   "outputs": [
    {
     "data": {
      "text/plain": [
       "(60000, 28, 28)"
      ]
     },
     "execution_count": 3,
     "metadata": {},
     "output_type": "execute_result"
    }
   ],
   "source": [
    "train_images.shape\n",
    "#ada 60 rb images berukuran 28x28 pxl"
   ]
  },
  {
   "cell_type": "code",
   "execution_count": 4,
   "id": "81dc6c1c",
   "metadata": {},
   "outputs": [
    {
     "name": "stdout",
     "output_type": "stream",
     "text": [
      "[5 0 4 ... 5 6 8]\n"
     ]
    }
   ],
   "source": [
    "print(train_labels)\n",
    "#img pertama merupakan angka 5 yg kedua angka 0 dst"
   ]
  },
  {
   "cell_type": "code",
   "execution_count": 5,
   "id": "a59c3e7d",
   "metadata": {},
   "outputs": [
    {
     "data": {
      "text/plain": [
       "(10000, 28, 28)"
      ]
     },
     "execution_count": 5,
     "metadata": {},
     "output_type": "execute_result"
    }
   ],
   "source": [
    "test_images.shape\n",
    "#ada 10rb img dgn ukuran img 28x28 pxl"
   ]
  },
  {
   "cell_type": "code",
   "execution_count": 6,
   "id": "574ee3f7",
   "metadata": {},
   "outputs": [
    {
     "name": "stdout",
     "output_type": "stream",
     "text": [
      "[7 2 1 ... 4 5 6]\n"
     ]
    }
   ],
   "source": [
    "print(test_labels)\n",
    "#label dari gmbr pertama tulisan angka 7 dst"
   ]
  },
  {
   "cell_type": "code",
   "execution_count": 7,
   "id": "ef4ff79a",
   "metadata": {},
   "outputs": [],
   "source": [
    "## Membangun Arsitektur Model"
   ]
  },
  {
   "cell_type": "code",
   "execution_count": 8,
   "id": "b30bf394",
   "metadata": {},
   "outputs": [],
   "source": [
    "from keras import models\n",
    "from keras import layers\n",
    "network = models.Sequential() \n",
    "#model berurutan antara input kemudian hidden layer kemudian output layer\n",
    "network.add(layers.Dense(512,activation='relu',input_shape=(28*28,)))\n",
    "#dengan dense artinya semua images ini terkoneksi dengan 512 neuron hidden layer dengan menggunakan activation relu \n",
    "network.add(layers.Dense(10,activation='softmax'))\n",
    "#outputnya berupa 10 neuron, mengklaskan output kedalam 10 kelas"
   ]
  },
  {
   "cell_type": "code",
   "execution_count": 9,
   "id": "2282e492",
   "metadata": {},
   "outputs": [],
   "source": [
    "## Mengkompilasi Model"
   ]
  },
  {
   "cell_type": "code",
   "execution_count": 10,
   "id": "989ecdb7",
   "metadata": {},
   "outputs": [],
   "source": [
    "network.compile(optimizer='rmsprop',\n",
    "               loss='categorical_crossentropy',\n",
    "               metrics=['accuracy'])"
   ]
  },
  {
   "cell_type": "code",
   "execution_count": 11,
   "id": "adad4d79",
   "metadata": {},
   "outputs": [],
   "source": [
    "## Data Image"
   ]
  },
  {
   "cell_type": "code",
   "execution_count": 12,
   "id": "e4d4c441",
   "metadata": {},
   "outputs": [],
   "source": [
    "train_images = train_images.reshape((60000,28*28))\n",
    "train_images = train_images.astype('float32')/255\n",
    "test_images = test_images.reshape((10000,28*28))\n",
    "test_images = test_images.astype('float32')/255"
   ]
  },
  {
   "cell_type": "code",
   "execution_count": 13,
   "id": "8facbed1",
   "metadata": {},
   "outputs": [],
   "source": [
    "#Label"
   ]
  },
  {
   "cell_type": "code",
   "execution_count": 14,
   "id": "694d3ff1",
   "metadata": {},
   "outputs": [],
   "source": [
    "from tensorflow.keras.utils import to_categorical\n",
    "train_labels = to_categorical(train_labels)\n",
    "test_labels = to_categorical(test_labels)"
   ]
  },
  {
   "cell_type": "code",
   "execution_count": 15,
   "id": "d8fdd13d",
   "metadata": {},
   "outputs": [],
   "source": [
    "## Training Model"
   ]
  },
  {
   "cell_type": "code",
   "execution_count": 16,
   "id": "ddaea852",
   "metadata": {},
   "outputs": [
    {
     "name": "stdout",
     "output_type": "stream",
     "text": [
      "Epoch 1/5\n",
      "469/469 [==============================] - 3s 5ms/step - loss: 0.2536 - accuracy: 0.9258\n",
      "Epoch 2/5\n",
      "469/469 [==============================] - 3s 5ms/step - loss: 0.1033 - accuracy: 0.9695\n",
      "Epoch 3/5\n",
      "469/469 [==============================] - 2s 5ms/step - loss: 0.0682 - accuracy: 0.9794\n",
      "Epoch 4/5\n",
      "469/469 [==============================] - 2s 5ms/step - loss: 0.0491 - accuracy: 0.9849\n",
      "Epoch 5/5\n",
      "469/469 [==============================] - 2s 5ms/step - loss: 0.0367 - accuracy: 0.9888\n"
     ]
    },
    {
     "data": {
      "text/plain": [
       "<keras.callbacks.History at 0x216bc977d60>"
      ]
     },
     "execution_count": 16,
     "metadata": {},
     "output_type": "execute_result"
    }
   ],
   "source": [
    "network.fit(train_images,train_labels,epochs=5,batch_size=128)"
   ]
  },
  {
   "cell_type": "code",
   "execution_count": null,
   "id": "5c52bdfb",
   "metadata": {},
   "outputs": [],
   "source": [
    "## Test Model"
   ]
  },
  {
   "cell_type": "code",
   "execution_count": 18,
   "id": "cdf5de95",
   "metadata": {},
   "outputs": [
    {
     "name": "stdout",
     "output_type": "stream",
     "text": [
      "313/313 [==============================] - 1s 2ms/step - loss: 0.0685 - accuracy: 0.9787\n",
      "test_acc: 0.9786999821662903\n"
     ]
    }
   ],
   "source": [
    "test_loss,test_acc = network.evaluate(test_images,test_labels)\n",
    "print('test_acc:',test_acc)"
   ]
  }
 ],
 "metadata": {
  "kernelspec": {
   "display_name": "Python 3 (ipykernel)",
   "language": "python",
   "name": "python3"
  },
  "language_info": {
   "codemirror_mode": {
    "name": "ipython",
    "version": 3
   },
   "file_extension": ".py",
   "mimetype": "text/x-python",
   "name": "python",
   "nbconvert_exporter": "python",
   "pygments_lexer": "ipython3",
   "version": "3.9.12"
  }
 },
 "nbformat": 4,
 "nbformat_minor": 5
}
