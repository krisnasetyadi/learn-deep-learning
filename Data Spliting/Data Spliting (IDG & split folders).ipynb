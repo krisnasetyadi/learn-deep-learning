{
 "cells": [
  {
   "cell_type": "code",
   "execution_count": 4,
   "id": "01c1abf4",
   "metadata": {},
   "outputs": [],
   "source": [
    "import zipfile\n",
    "import os\n",
    "import tensorflow as tf\n",
    "from tensorflow.keras.optimizers import RMSprop\n",
    "from tensorflow.keras.preprocessing.image import ImageDataGenerator"
   ]
  },
  {
   "cell_type": "code",
   "execution_count": 7,
   "id": "848fc1c5",
   "metadata": {},
   "outputs": [],
   "source": [
    "with zipfile.ZipFile('C:\\\\Users\\\\anyfo\\\\Deep Learning Semester 6\\\\Sistem Cerdas Berbasis Visual/dataset mix/pizza.zip','r') as zip_ref:\n",
    "    zip_ref.extractall ('C:\\\\Users\\\\anyfo\\\\Deep Learning Semester 6\\\\Sistem Cerdas Berbasis Visual/dataset mix/pizza')"
   ]
  },
  {
   "cell_type": "code",
   "execution_count": 8,
   "id": "f960dedc",
   "metadata": {},
   "outputs": [
    {
     "name": "stdout",
     "output_type": "stream",
     "text": [
      "Files and direcotries in ' C:\\Users\\anyfo\\Deep Learning Semester 6\\Sistem Cerdas Berbasis Visual/dataset mix/pizza ' :\n",
      "['pizza_not_pizza']\n"
     ]
    }
   ],
   "source": [
    "path = 'C:\\\\Users\\\\anyfo\\\\Deep Learning Semester 6\\\\Sistem Cerdas Berbasis Visual/dataset mix/pizza'\n",
    "dir_list = os.listdir(path)\n",
    "\n",
    "print(\"Files and direcotries in '\",path,\"' :\")\n",
    "print(dir_list)"
   ]
  },
  {
   "cell_type": "code",
   "execution_count": 9,
   "id": "f6593027",
   "metadata": {},
   "outputs": [
    {
     "data": {
      "text/plain": [
       "['C:\\\\Users\\\\anyfo\\\\Deep Learning Semester 6\\\\Sistem Cerdas Berbasis Visual/dataset mix/pizza\\\\pizza_not_pizza',\n",
       " 'C:\\\\Users\\\\anyfo\\\\Deep Learning Semester 6\\\\Sistem Cerdas Berbasis Visual/dataset mix/pizza\\\\pizza_not_pizza\\\\not_pizza',\n",
       " 'C:\\\\Users\\\\anyfo\\\\Deep Learning Semester 6\\\\Sistem Cerdas Berbasis Visual/dataset mix/pizza\\\\pizza_not_pizza\\\\pizza']"
      ]
     },
     "execution_count": 9,
     "metadata": {},
     "output_type": "execute_result"
    }
   ],
   "source": [
    "def fast_scandir(dirname):\n",
    "    subfolders = [f.path for f in os.scandir(dirname) if f.is_dir()]\n",
    "    for dirname in list (subfolders):\n",
    "        subfolders.extend(fast_scandir(dirname))\n",
    "    return subfolders\n",
    "fast_scandir(path)"
   ]
  },
  {
   "cell_type": "code",
   "execution_count": 11,
   "id": "1e3e6259",
   "metadata": {},
   "outputs": [],
   "source": [
    "training_data = ImageDataGenerator(rescale=1./255,\n",
    "                                  rotation_range = 20,\n",
    "                                  zoom_range=0.2,\n",
    "                                  shear_range=0.2,\n",
    "                                  horizontal_flip = True,\n",
    "                                  fill_mode ='wrap',\n",
    "                                  validation_split=0.4)"
   ]
  },
  {
   "cell_type": "code",
   "execution_count": 12,
   "id": "228a5220",
   "metadata": {},
   "outputs": [],
   "source": [
    "test_data = ImageDataGenerator(rescale=1.255,\n",
    "                              validation_split=0.4)"
   ]
  },
  {
   "cell_type": "code",
   "execution_count": 16,
   "id": "c76db8fc",
   "metadata": {},
   "outputs": [
    {
     "name": "stdout",
     "output_type": "stream",
     "text": [
      "Found 1180 images belonging to 2 classes.\n",
      "Found 786 images belonging to 2 classes.\n"
     ]
    }
   ],
   "source": [
    "base_dir = 'C:\\\\Users\\\\anyfo\\\\Deep Learning Semester 6\\\\Sistem Cerdas Berbasis Visual/dataset mix/pizza\\\\pizza_not_pizza'\n",
    "\n",
    "train_generator = training_data.flow_from_directory(base_dir,\n",
    "                                                   target_size=(100,150),\n",
    "                                                   shuffle = True,\n",
    "                                                   subset='training',\n",
    "                                                   class_mode = 'binary')\n",
    "validation_generator = training_data.flow_from_directory(\n",
    "base_dir,\n",
    "target_size=(100,150),\n",
    "subset='validation',\n",
    "class_mode='binary')"
   ]
  },
  {
   "cell_type": "code",
   "execution_count": 17,
   "id": "0e650a3a",
   "metadata": {},
   "outputs": [
    {
     "name": "stdout",
     "output_type": "stream",
     "text": [
      "Collecting split-folders\n",
      "  Downloading split_folders-0.5.1-py3-none-any.whl (8.4 kB)\n",
      "Installing collected packages: split-folders\n",
      "Successfully installed split-folders-0.5.1\n",
      "Note: you may need to restart the kernel to use updated packages.\n"
     ]
    }
   ],
   "source": [
    "pip install split-folders"
   ]
  },
  {
   "cell_type": "code",
   "execution_count": 19,
   "id": "afbe0001",
   "metadata": {},
   "outputs": [],
   "source": [
    "import splitfolders\n",
    "\n",
    "splitfolders.ratio(base_dir,\n",
    "                  output='C:\\\\Users\\\\anyfo\\\\Deep Learning Semester 6\\\\Sistem Cerdas Berbasis Visual/dataset mix/pizza\\\\output',\n",
    "                   seed = 42,\n",
    "                   ratio = (.7,.2,.1),\n",
    "                   group_prefix=None,\n",
    "                   move = False\n",
    "                  )"
   ]
  },
  {
   "cell_type": "code",
   "execution_count": 20,
   "id": "0dfa64b3",
   "metadata": {},
   "outputs": [
    {
     "data": {
      "text/plain": [
       "['C:\\\\Users\\\\anyfo\\\\Deep Learning Semester 6\\\\Sistem Cerdas Berbasis Visual/dataset mix/pizza\\\\output',\n",
       " 'C:\\\\Users\\\\anyfo\\\\Deep Learning Semester 6\\\\Sistem Cerdas Berbasis Visual/dataset mix/pizza\\\\pizza_not_pizza',\n",
       " 'C:\\\\Users\\\\anyfo\\\\Deep Learning Semester 6\\\\Sistem Cerdas Berbasis Visual/dataset mix/pizza\\\\output\\\\test',\n",
       " 'C:\\\\Users\\\\anyfo\\\\Deep Learning Semester 6\\\\Sistem Cerdas Berbasis Visual/dataset mix/pizza\\\\output\\\\train',\n",
       " 'C:\\\\Users\\\\anyfo\\\\Deep Learning Semester 6\\\\Sistem Cerdas Berbasis Visual/dataset mix/pizza\\\\output\\\\val',\n",
       " 'C:\\\\Users\\\\anyfo\\\\Deep Learning Semester 6\\\\Sistem Cerdas Berbasis Visual/dataset mix/pizza\\\\output\\\\test\\\\not_pizza',\n",
       " 'C:\\\\Users\\\\anyfo\\\\Deep Learning Semester 6\\\\Sistem Cerdas Berbasis Visual/dataset mix/pizza\\\\output\\\\test\\\\pizza',\n",
       " 'C:\\\\Users\\\\anyfo\\\\Deep Learning Semester 6\\\\Sistem Cerdas Berbasis Visual/dataset mix/pizza\\\\output\\\\train\\\\not_pizza',\n",
       " 'C:\\\\Users\\\\anyfo\\\\Deep Learning Semester 6\\\\Sistem Cerdas Berbasis Visual/dataset mix/pizza\\\\output\\\\train\\\\pizza',\n",
       " 'C:\\\\Users\\\\anyfo\\\\Deep Learning Semester 6\\\\Sistem Cerdas Berbasis Visual/dataset mix/pizza\\\\output\\\\val\\\\not_pizza',\n",
       " 'C:\\\\Users\\\\anyfo\\\\Deep Learning Semester 6\\\\Sistem Cerdas Berbasis Visual/dataset mix/pizza\\\\output\\\\val\\\\pizza',\n",
       " 'C:\\\\Users\\\\anyfo\\\\Deep Learning Semester 6\\\\Sistem Cerdas Berbasis Visual/dataset mix/pizza\\\\pizza_not_pizza\\\\not_pizza',\n",
       " 'C:\\\\Users\\\\anyfo\\\\Deep Learning Semester 6\\\\Sistem Cerdas Berbasis Visual/dataset mix/pizza\\\\pizza_not_pizza\\\\pizza']"
      ]
     },
     "execution_count": 20,
     "metadata": {},
     "output_type": "execute_result"
    }
   ],
   "source": [
    "fast_scandir(path)"
   ]
  },
  {
   "cell_type": "code",
   "execution_count": 21,
   "id": "dd25111b",
   "metadata": {},
   "outputs": [],
   "source": [
    "train_dir = 'C:\\\\Users\\\\anyfo\\\\Deep Learning Semester 6\\\\Sistem Cerdas Berbasis Visual/dataset mix/pizza\\\\output\\\\train'\n",
    "test_dir = 'C:\\\\Users\\\\anyfo\\\\Deep Learning Semester 6\\\\Sistem Cerdas Berbasis Visual/dataset mix/pizza\\\\output\\\\test'\n",
    "val_dir = 'C:\\\\Users\\\\anyfo\\\\Deep Learning Semester 6\\\\Sistem Cerdas Berbasis Visual/dataset mix/pizza\\\\output\\\\val'"
   ]
  },
  {
   "cell_type": "code",
   "execution_count": 35,
   "id": "a7a48bed",
   "metadata": {},
   "outputs": [
    {
     "name": "stdout",
     "output_type": "stream",
     "text": [
      "Found 826 images belonging to 2 classes.\n",
      "Found 156 images belonging to 2 classes.\n",
      "Found 198 images belonging to 2 classes.\n"
     ]
    }
   ],
   "source": [
    "train_data = training_data.flow_from_directory(\n",
    "train_dir,\n",
    "target_size=(100,150),\n",
    "shuffle=True,\n",
    "subset='training',\n",
    "class_mode='binary')\n",
    "\n",
    "validation_data= training_data.flow_from_directory(\n",
    "val_dir,\n",
    "target_size=(100,150),\n",
    "subset='validation',\n",
    "class_mode='binary')\n",
    "\n",
    "testing_data = test_data.flow_from_directory(\n",
    "test_dir,\n",
    "target_size=(100,150),\n",
    "shuffle=False,)"
   ]
  },
  {
   "cell_type": "code",
   "execution_count": 39,
   "id": "f0a49c70",
   "metadata": {},
   "outputs": [],
   "source": [
    "splitfolders.fixed(base_dir,\n",
    "                  output='C:\\\\Users\\\\anyfo\\\\Deep Learning Semester 6\\\\Sistem Cerdas Berbasis Visual/dataset mix/pizza\\\\output2',\n",
    "                  seed=42,\n",
    "                  fixed=(100,100),\n",
    "                  group_prefix=True,\n",
    "                  move=False)"
   ]
  },
  {
   "cell_type": "code",
   "execution_count": 40,
   "id": "f612e8b3",
   "metadata": {},
   "outputs": [
    {
     "data": {
      "text/plain": [
       "['C:\\\\Users\\\\anyfo\\\\Deep Learning Semester 6\\\\Sistem Cerdas Berbasis Visual/dataset mix/pizza\\\\output',\n",
       " 'C:\\\\Users\\\\anyfo\\\\Deep Learning Semester 6\\\\Sistem Cerdas Berbasis Visual/dataset mix/pizza\\\\output2',\n",
       " 'C:\\\\Users\\\\anyfo\\\\Deep Learning Semester 6\\\\Sistem Cerdas Berbasis Visual/dataset mix/pizza\\\\pizza_not_pizza',\n",
       " 'C:\\\\Users\\\\anyfo\\\\Deep Learning Semester 6\\\\Sistem Cerdas Berbasis Visual/dataset mix/pizza\\\\output\\\\test',\n",
       " 'C:\\\\Users\\\\anyfo\\\\Deep Learning Semester 6\\\\Sistem Cerdas Berbasis Visual/dataset mix/pizza\\\\output\\\\train',\n",
       " 'C:\\\\Users\\\\anyfo\\\\Deep Learning Semester 6\\\\Sistem Cerdas Berbasis Visual/dataset mix/pizza\\\\output\\\\val',\n",
       " 'C:\\\\Users\\\\anyfo\\\\Deep Learning Semester 6\\\\Sistem Cerdas Berbasis Visual/dataset mix/pizza\\\\output\\\\test\\\\not_pizza',\n",
       " 'C:\\\\Users\\\\anyfo\\\\Deep Learning Semester 6\\\\Sistem Cerdas Berbasis Visual/dataset mix/pizza\\\\output\\\\test\\\\pizza',\n",
       " 'C:\\\\Users\\\\anyfo\\\\Deep Learning Semester 6\\\\Sistem Cerdas Berbasis Visual/dataset mix/pizza\\\\output\\\\train\\\\not_pizza',\n",
       " 'C:\\\\Users\\\\anyfo\\\\Deep Learning Semester 6\\\\Sistem Cerdas Berbasis Visual/dataset mix/pizza\\\\output\\\\train\\\\pizza',\n",
       " 'C:\\\\Users\\\\anyfo\\\\Deep Learning Semester 6\\\\Sistem Cerdas Berbasis Visual/dataset mix/pizza\\\\output\\\\val\\\\not_pizza',\n",
       " 'C:\\\\Users\\\\anyfo\\\\Deep Learning Semester 6\\\\Sistem Cerdas Berbasis Visual/dataset mix/pizza\\\\output\\\\val\\\\pizza',\n",
       " 'C:\\\\Users\\\\anyfo\\\\Deep Learning Semester 6\\\\Sistem Cerdas Berbasis Visual/dataset mix/pizza\\\\output2\\\\test',\n",
       " 'C:\\\\Users\\\\anyfo\\\\Deep Learning Semester 6\\\\Sistem Cerdas Berbasis Visual/dataset mix/pizza\\\\output2\\\\train',\n",
       " 'C:\\\\Users\\\\anyfo\\\\Deep Learning Semester 6\\\\Sistem Cerdas Berbasis Visual/dataset mix/pizza\\\\output2\\\\val',\n",
       " 'C:\\\\Users\\\\anyfo\\\\Deep Learning Semester 6\\\\Sistem Cerdas Berbasis Visual/dataset mix/pizza\\\\output2\\\\test\\\\not_pizza',\n",
       " 'C:\\\\Users\\\\anyfo\\\\Deep Learning Semester 6\\\\Sistem Cerdas Berbasis Visual/dataset mix/pizza\\\\output2\\\\test\\\\pizza',\n",
       " 'C:\\\\Users\\\\anyfo\\\\Deep Learning Semester 6\\\\Sistem Cerdas Berbasis Visual/dataset mix/pizza\\\\output2\\\\train\\\\not_pizza',\n",
       " 'C:\\\\Users\\\\anyfo\\\\Deep Learning Semester 6\\\\Sistem Cerdas Berbasis Visual/dataset mix/pizza\\\\output2\\\\train\\\\pizza',\n",
       " 'C:\\\\Users\\\\anyfo\\\\Deep Learning Semester 6\\\\Sistem Cerdas Berbasis Visual/dataset mix/pizza\\\\output2\\\\val\\\\not_pizza',\n",
       " 'C:\\\\Users\\\\anyfo\\\\Deep Learning Semester 6\\\\Sistem Cerdas Berbasis Visual/dataset mix/pizza\\\\output2\\\\val\\\\pizza',\n",
       " 'C:\\\\Users\\\\anyfo\\\\Deep Learning Semester 6\\\\Sistem Cerdas Berbasis Visual/dataset mix/pizza\\\\pizza_not_pizza\\\\not_pizza',\n",
       " 'C:\\\\Users\\\\anyfo\\\\Deep Learning Semester 6\\\\Sistem Cerdas Berbasis Visual/dataset mix/pizza\\\\pizza_not_pizza\\\\pizza']"
      ]
     },
     "execution_count": 40,
     "metadata": {},
     "output_type": "execute_result"
    }
   ],
   "source": [
    "fast_scandir(path)"
   ]
  },
  {
   "cell_type": "code",
   "execution_count": 42,
   "id": "27b012cf",
   "metadata": {},
   "outputs": [],
   "source": [
    "train2_dir='C:\\\\Users\\\\anyfo\\\\Deep Learning Semester 6\\\\Sistem Cerdas Berbasis Visual/dataset mix/pizza\\\\output2\\\\train'\n",
    "val2_dir = 'C:\\\\Users\\\\anyfo\\\\Deep Learning Semester 6\\\\Sistem Cerdas Berbasis Visual/dataset mix/pizza\\\\output2\\\\val'\n",
    "test2_dir ='C:\\\\Users\\\\anyfo\\\\Deep Learning Semester 6\\\\Sistem Cerdas Berbasis Visual/dataset mix/pizza\\\\output2\\\\test'"
   ]
  },
  {
   "cell_type": "code",
   "execution_count": 44,
   "id": "2cae44d9",
   "metadata": {},
   "outputs": [
    {
     "name": "stdout",
     "output_type": "stream",
     "text": [
      "Found 940 images belonging to 2 classes.\n",
      "Found 160 images belonging to 2 classes.\n",
      "Found 600 images belonging to 2 classes.\n"
     ]
    }
   ],
   "source": [
    "train_data = training_data.flow_from_directory(\n",
    "train2_dir,\n",
    "target_size=(100,150),\n",
    "shuffle=True,\n",
    "subset='training',\n",
    "class_mode='binary')\n",
    "\n",
    "validation_data=training_data.flow_from_directory(\n",
    "val2_dir,\n",
    "target_size=(100,150),\n",
    "subset='validation',\n",
    "class_mode='binary')\n",
    "\n",
    "testing2_data=training_data.flow_from_directory(\n",
    "test2_dir,\n",
    "target_size=(100,150),\n",
    "shuffle=False)"
   ]
  }
 ],
 "metadata": {
  "kernelspec": {
   "display_name": "Python 3 (ipykernel)",
   "language": "python",
   "name": "python3"
  },
  "language_info": {
   "codemirror_mode": {
    "name": "ipython",
    "version": 3
   },
   "file_extension": ".py",
   "mimetype": "text/x-python",
   "name": "python",
   "nbconvert_exporter": "python",
   "pygments_lexer": "ipython3",
   "version": "3.9.12"
  }
 },
 "nbformat": 4,
 "nbformat_minor": 5
}
