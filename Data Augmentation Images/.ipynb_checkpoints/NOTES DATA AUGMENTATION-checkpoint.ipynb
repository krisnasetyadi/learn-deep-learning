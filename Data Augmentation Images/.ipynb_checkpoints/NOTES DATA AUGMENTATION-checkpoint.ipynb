{
 "cells": [
  {
   "cell_type": "code",
   "execution_count": 1,
   "id": "c549b0f7",
   "metadata": {},
   "outputs": [],
   "source": [
    "##Data Preprocessing"
   ]
  },
  {
   "cell_type": "code",
   "execution_count": null,
   "id": "d87e1c3e",
   "metadata": {},
   "outputs": [],
   "source": [
    "import zipfile\n",
    "with zipfile.ZipFile('data.zip','r') as zip_ref:\n",
    "    zip_ref.extractall('extracted_fruits')"
   ]
  },
  {
   "cell_type": "code",
   "execution_count": null,
   "id": "9f0a3360",
   "metadata": {},
   "outputs": [],
   "source": [
    "import os\n",
    "path=\"extracted_fruits\"\n",
    "dir_list = os.listdir(path)\n",
    "\n",
    "print(\"Files and directories in '\", path,\"' :\")\n",
    "print(dir_list)"
   ]
  },
  {
   "cell_type": "code",
   "execution_count": null,
   "id": "01e991d2",
   "metadata": {},
   "outputs": [],
   "source": [
    "def fast_scnadir(dirname):\n",
    "    subfolders=[f.path for f in os.scandir(dirname) if f.is_dir()]\n",
    "    for dirname in list(subfolders):\n",
    "        subfolders.extend(fast_scandir(dirname))\n",
    "    return subfolders\n",
    "\n",
    "fast_scnadir(path)"
   ]
  },
  {
   "cell_type": "code",
   "execution_count": null,
   "id": "5d373c6f",
   "metadata": {},
   "outputs": [],
   "source": [
    "os.listdir('xxxxx')"
   ]
  },
  {
   "cell_type": "code",
   "execution_count": null,
   "id": "749c90e5",
   "metadata": {},
   "outputs": [],
   "source": [
    "pip install opencv-python"
   ]
  },
  {
   "cell_type": "code",
   "execution_count": null,
   "id": "3f44edb3",
   "metadata": {},
   "outputs": [],
   "source": [
    "import matplotlib.pyplot as plt\n",
    "import matplotlib.image as mpimg\n",
    "import random\n",
    "import os\n",
    "from PIL import Image\n",
    "import cv2\n",
    "import numpy as mp\n",
    "from google.colab.patches import cv2_imshow"
   ]
  },
  {
   "cell_type": "code",
   "execution_count": null,
   "id": "ddcd1ac2",
   "metadata": {},
   "outputs": [],
   "source": [
    "def load_images_from_folder(folder):\n",
    "    images=[]\n",
    "    for filenmae in os.listdir(folder):\n",
    "        img=cv2.imread(os.path.join(folder,filename))\n",
    "        if img is not None :\n",
    "            images.append(img)\n",
    "    return images\n",
    "data_training = load_images_from_folder('extracted_fruits/blabla')"
   ]
  },
  {
   "cell_type": "code",
   "execution_count": null,
   "id": "aa0fb696",
   "metadata": {},
   "outputs": [],
   "source": [
    "##banyaknya images\n",
    "len(data_training)"
   ]
  },
  {
   "cell_type": "code",
   "execution_count": null,
   "id": "251001a7",
   "metadata": {},
   "outputs": [],
   "source": [
    "sample_number=[1,2,3,4,5,6,7,8,9]\n",
    "for key in sample_number:\n",
    "    image = data_training[key]\n",
    "    print(image.shape)\n",
    "    plt.subplot(3,3,key)\n",
    "    plt.imshow(image)\n",
    "    \n",
    "plt.show()"
   ]
  },
  {
   "cell_type": "code",
   "execution_count": null,
   "id": "9e0cdc71",
   "metadata": {},
   "outputs": [],
   "source": [
    "##resize image\n",
    "height = 220\n",
    "width = 220\n",
    "dim - (width,height)\n",
    "res_img=[]\n",
    "for i ini data_training:\n",
    "    resized = cv2.resize(i,dim,interpolation = cv2.INTER_AREA)\n",
    "    print('Ukuran Awal : ',i.shape,'Ukuran Akhir :',resized.shape)\n",
    "    res_img.append(resized)"
   ]
  },
  {
   "cell_type": "code",
   "execution_count": null,
   "id": "9c56a2c2",
   "metadata": {},
   "outputs": [],
   "source": [
    "##check the size\n",
    "sample_number=[1,2,3,4,5,6,7,8,9]\n",
    "for key in sample_number:\n",
    "    image = data_training[key]\n",
    "    print(image.shape)\n",
    "    plt.subplot(3,3,key)\n",
    "    plt.imshow(image)\n",
    "    \n",
    "plt.show()"
   ]
  },
  {
   "cell_type": "code",
   "execution_count": null,
   "id": "c443189e",
   "metadata": {},
   "outputs": [],
   "source": [
    "## remove noise/bluring\n",
    "no_noise=[]\n",
    "for i in res_img:\n",
    "    blue = cv2.GaussianBlur(i,(7,7),0,cv2.BORDER_DEFAULT)\n",
    "    no_noise.append(blur)\n",
    "plt.imshow(no_noise[-10])"
   ]
  },
  {
   "cell_type": "code",
   "execution_count": null,
   "id": "8f630d98",
   "metadata": {},
   "outputs": [],
   "source": [
    "##Graysclae Conversion\n",
    "grayscale = []\n",
    "for i in res_img:\n",
    "    gray_color = cv2.cvtColor(i,cv2.COLOR_BGR2GRAY)\n",
    "    grayscale.append(gray_color)\n",
    "cv2_imshow(grayscale[-10])"
   ]
  },
  {
   "cell_type": "code",
   "execution_count": null,
   "id": "862ec9ab",
   "metadata": {},
   "outputs": [],
   "source": [
    "## Nprmalisasi\n",
    "#mengubah nilai nilai pixel yg tadinya beragam menjadi nilai nilai yg berada di nilai range 0-1 sampai negatif 1\n",
    "norm_img=[]\n",
    "for i in res_img:\n",
    "    imgnormed = (i-np.min(1))/(np.max(i)-np.min(i))\n",
    "    norm_img.append(imgnormed)\n",
    "res_img[100]"
   ]
  },
  {
   "cell_type": "code",
   "execution_count": null,
   "id": "30afd98e",
   "metadata": {},
   "outputs": [],
   "source": [
    "norm_img[100]"
   ]
  },
  {
   "cell_type": "code",
   "execution_count": null,
   "id": "26b5e8ab",
   "metadata": {},
   "outputs": [],
   "source": [
    "##result normalisasi\n",
    "plt.imshow(norm_img[-10])"
   ]
  },
  {
   "cell_type": "code",
   "execution_count": null,
   "id": "6978f57f",
   "metadata": {},
   "outputs": [],
   "source": [
    "##Edge Detection\n",
    "sobelxy_img = []\n",
    "for i in norm_img:\n",
    "    sobelxy = cv2.Sobel(src=i,ddepth=cv2.CV_64F,dx=1,dy=1,ksize=5)\n",
    "    sobelxy_img.append(sobelxy)\n",
    "plt.imshow(sobelxy_img[-10])\n"
   ]
  },
  {
   "cell_type": "code",
   "execution_count": null,
   "id": "6a6aae15",
   "metadata": {},
   "outputs": [],
   "source": [
    "##Data Augmentation"
   ]
  },
  {
   "cell_type": "code",
   "execution_count": null,
   "id": "20dd24bf",
   "metadata": {},
   "outputs": [],
   "source": [
    "from numpy import expand_dims\n",
    "from keras.preprocessing.image import ImageDataGenerator"
   ]
  },
  {
   "cell_type": "code",
   "execution_count": null,
   "id": "2a100124",
   "metadata": {},
   "outputs": [],
   "source": [
    "#memperluas Dimensi\n",
    "expand_img = []\n",
    "for i in data_training:\n",
    "    samplees=expand_dims(i,0)\n",
    "    expand_img.append(samples)"
   ]
  },
  {
   "cell_type": "code",
   "execution_count": null,
   "id": "52320c61",
   "metadata": {},
   "outputs": [],
   "source": [
    "#Menambah Data dengan Menggeser image\n",
    "datagen= ImageDataGenerator(width_shift_range=[0-100])\n",
    "iterator = datagen.flow(expand_img,batch+size=1)\n",
    "for i in range(25):\n",
    "    batch = iterator.next()\n",
    "    image = batch[0].astype('uint8')\n",
    "    plt.subplot(5,5,i+1)\n",
    "    plt.imshow(image[0])\n",
    "plt.show()\n"
   ]
  },
  {
   "cell_type": "code",
   "execution_count": null,
   "id": "e409b148",
   "metadata": {},
   "outputs": [],
   "source": [
    "#Menambah Data dengan Membalik Image\n",
    "datagen = ImageDataGenerator(horizontal_flip=True)\n",
    "\n",
    "iterator = datagen.flow(expand_img,batch_size=1)\n",
    "for i in range(25):\n",
    "    batch = iterator.next()\n",
    "    image = batch[0].astype('uint8')\n",
    "    plt.subplot(5,5,i+1)\n",
    "    plt.imshow(image[0])\n",
    "plt.show()"
   ]
  },
  {
   "cell_type": "code",
   "execution_count": null,
   "id": "010729b4",
   "metadata": {},
   "outputs": [],
   "source": [
    "## Menambah Data dengan Rotasi Image\n",
    "datagen = ImageDataGenerator(rotation_range=90)\n",
    "\n",
    "iterator = datagen.flow(expand_img,batch_size=1)\n",
    "for i in range(25):\n",
    "    batch = iterator.next()\n",
    "    image = batch[0].astype('uint8')\n",
    "    plt.subplot(5,5,i+1)\n",
    "    plt.imshow(image[0])\n",
    "plt.show()"
   ]
  },
  {
   "cell_type": "code",
   "execution_count": null,
   "id": "dee96c34",
   "metadata": {},
   "outputs": [],
   "source": [
    "## Mema,nah Data dengan Modifikasi Campuran\n",
    "datagen = ImageDataGenerator(rotation_range=90,\n",
    "                            zoom_range=0.4,\n",
    "                            width_shift_range=0.5,\n",
    "                            height_shift_range=0.5,\n",
    "                            horizontal_flip=True,\n",
    "                            vertical_flip=True,\n",
    "                            brightness_range=[0.6,1.0])\n",
    "\n",
    "iterator = datagen.flow(expand_img,batch_size=1)\n",
    "for i inrange(25):\n",
    "    batch = iterator.next()\n",
    "    image = batch[0].astype('uint8')\n",
    "    plt.subplot(5,5,i+i)\n",
    "    plt.imshow(image[0])\n",
    "    \n",
    "plt.show()"
   ]
  }
 ],
 "metadata": {
  "kernelspec": {
   "display_name": "Python 3 (ipykernel)",
   "language": "python",
   "name": "python3"
  },
  "language_info": {
   "codemirror_mode": {
    "name": "ipython",
    "version": 3
   },
   "file_extension": ".py",
   "mimetype": "text/x-python",
   "name": "python",
   "nbconvert_exporter": "python",
   "pygments_lexer": "ipython3",
   "version": "3.9.12"
  }
 },
 "nbformat": 4,
 "nbformat_minor": 5
}
