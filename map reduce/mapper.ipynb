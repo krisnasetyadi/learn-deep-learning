{
 "cells": [
  {
   "cell_type": "code",
   "execution_count": 3,
   "id": "35eac683",
   "metadata": {},
   "outputs": [],
   "source": [
    "import sys"
   ]
  },
  {
   "cell_type": "code",
   "execution_count": 4,
   "id": "1238014c",
   "metadata": {},
   "outputs": [],
   "source": [
    "for line in sys.stdin:\n",
    "    line=line.strip()\n",
    "    words=line.split()\n",
    "    for word in words:\n",
    "        print('%s\\t%s'%(word,1))"
   ]
  },
  {
   "cell_type": "code",
   "execution_count": null,
   "id": "27467cda",
   "metadata": {},
   "outputs": [],
   "source": []
  }
 ],
 "metadata": {
  "kernelspec": {
   "display_name": "Python 3 (ipykernel)",
   "language": "python",
   "name": "python3"
  },
  "language_info": {
   "codemirror_mode": {
    "name": "ipython",
    "version": 3
   },
   "file_extension": ".py",
   "mimetype": "text/x-python",
   "name": "python",
   "nbconvert_exporter": "python",
   "pygments_lexer": "ipython3",
   "version": "3.9.7"
  }
 },
 "nbformat": 4,
 "nbformat_minor": 5
}
