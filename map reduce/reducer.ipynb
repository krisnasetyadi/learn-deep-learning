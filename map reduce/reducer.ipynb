{
 "cells": [
  {
   "cell_type": "code",
   "execution_count": 1,
   "id": "46eb89d1",
   "metadata": {},
   "outputs": [],
   "source": [
    "import sys"
   ]
  },
  {
   "cell_type": "code",
   "execution_count": 6,
   "id": "1878a9c3",
   "metadata": {},
   "outputs": [],
   "source": [
    "prev_word = None\n",
    "prev_count = 0\n",
    "\n",
    "for line in sys.stdin:\n",
    "    line = line.strip()\n",
    "    word,count = line.split('\\t')\n",
    "    \n",
    "    count = int(count)\n",
    "    \n",
    "    if prev_word == word:\n",
    "        prev_count += count\n",
    "    else:\n",
    "        if prev_word:\n",
    "            print ('%s\\t%s' % (prev_word,prev_count))\n",
    "        prev_count = count\n",
    "        prev_word=word\n",
    "    if prev_word == word:\n",
    "        print('%s\\t%s' % (prev_word,prev_count))"
   ]
  }
 ],
 "metadata": {
  "kernelspec": {
   "display_name": "Python 3 (ipykernel)",
   "language": "python",
   "name": "python3"
  },
  "language_info": {
   "codemirror_mode": {
    "name": "ipython",
    "version": 3
   },
   "file_extension": ".py",
   "mimetype": "text/x-python",
   "name": "python",
   "nbconvert_exporter": "python",
   "pygments_lexer": "ipython3",
   "version": "3.9.7"
  }
 },
 "nbformat": 4,
 "nbformat_minor": 5
}
